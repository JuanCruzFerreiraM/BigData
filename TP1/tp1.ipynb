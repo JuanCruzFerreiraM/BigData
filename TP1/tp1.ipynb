{
 "cells": [
  {
   "cell_type": "markdown",
   "id": "4fd1d9c8",
   "metadata": {},
   "source": [
    "# Trabajo Practico N°1 - Hadoop MapReduce\n",
    "\n",
    "## Introducción\n",
    "\n",
    "En el siguiente trabajo se busca desarrollar una serie de soluciones a problemas de Big Data utilizando el paradigma Hadoop MapReduce en un entorno simulado.\n",
    "\n",
    "\n",
    "## Eje. 1\n",
    "\n",
    "Implementamos una solución basada en dos JOBS, el primero se encarga de determinar el total para cada retador y cada retado y el segundo se encarga de determinar el máximo retador y el máximo retado. \n"
   ]
  },
  {
   "cell_type": "code",
   "execution_count": 9,
   "id": "47a685af",
   "metadata": {},
   "outputs": [
    {
     "data": {
      "text/plain": [
       "True"
      ]
     },
     "execution_count": 9,
     "metadata": {},
     "output_type": "execute_result"
    }
   ],
   "source": [
    "from MRE import Job\n",
    "\n",
    "root_path = './' #Simplemente para poder usar rootpaths\n",
    "input_path = root_path + \"input/\"\n",
    "output_path = root_path + \"output/\"\n",
    "input_dir = input_path\n",
    "output_dir1 = output_path + \"eje1a/\"\n",
    "output_dir2 = output_path + \"eje1b/\"\n",
    "\n",
    "def fmap1 (key, value, context):\n",
    "    data = value.split('\\t')\n",
    "    id_retador = key\n",
    "    id_retado = data[0]\n",
    "    context.write((\"R\",id_retador), 1)\n",
    "    context.write((\"Re\", id_retado), 1)\n",
    "\n",
    "def fcomb(key, value, context):\n",
    "    c = 0\n",
    "    for v in value: \n",
    "        c += v\n",
    "    context.write(key, c)\n",
    "\n",
    "def freduce1 (key, value, context):\n",
    "    n = 0\n",
    "    for v in value:\n",
    "        n += v\n",
    "    context.write(key, n)\n",
    "\n",
    "def fmap2(key,value,context):\n",
    "    data = value.split()\n",
    "    \n",
    "    context.write(key,(data[0],int(data[1])))\n",
    "\n",
    "def freduce2(key,value,context):\n",
    "    max_id = -1\n",
    "    max_occurrence = 0\n",
    "    for v in value:\n",
    "        if (max_occurrence < v[1]):\n",
    "            max_occurrence = v[1]\n",
    "            max_id = v[0]\n",
    "    context.write(max_id, max_occurrence)\n",
    "\n",
    "job1 = Job(input_dir,output_dir1,fmap1,freduce1)\n",
    "job1.setCombiner(fcomb)\n",
    "job2 = Job(output_dir1,output_dir2,fmap2,freduce2)\n",
    "job1.waitForCompletion()\n",
    "job2.waitForCompletion()\n",
    "\n",
    "    "
   ]
  },
  {
   "cell_type": "markdown",
   "id": "9cf210a1",
   "metadata": {},
   "source": [
    "## Eje. 2\n",
    "\n",
    "Similar al ejercicio anterior implementamos una solución basada en dos Jobs, el primero se encarga de determinar para cada id los puntos en promedio y el segundo determina el máximo."
   ]
  },
  {
   "cell_type": "code",
   "execution_count": 14,
   "id": "f95ebb5c",
   "metadata": {},
   "outputs": [
    {
     "data": {
      "text/plain": [
       "True"
      ]
     },
     "execution_count": 14,
     "metadata": {},
     "output_type": "execute_result"
    }
   ],
   "source": [
    "from MRE import Job\n",
    "\n",
    "root_path = './' #Simplemente para poder usar rootpaths\n",
    "input_path = root_path + \"input/\"\n",
    "output_path = root_path + \"output/\"\n",
    "input_dir = input_path\n",
    "output_dir1 = output_path + \"eje2a/\"\n",
    "output_dir2 = output_path + \"eje2b/\"\n",
    "\n",
    "def fmap1 (key, value, context):\n",
    "    data = value.split('\\t')\n",
    "    points = data[1]\n",
    "    context.write(key,(int(points),1))\n",
    "    \n",
    "\n",
    "def fcomb(key, value, context):\n",
    "    p = 0\n",
    "    c = 0\n",
    "    for v in value: \n",
    "        p += v[0]\n",
    "        c += v[1]\n",
    "    context.write(key, (p,c))\n",
    "\n",
    "def freduce1 (key, value, context):\n",
    "    total_points = 0\n",
    "    n = 0\n",
    "    for v in value:\n",
    "        total_points += v[0]\n",
    "        n += v[1]\n",
    "    context.write(key, (total_points + 1)/(n + 1))\n",
    "\n",
    "def fmap2(key,value,context):\n",
    "    context.write(1, (key, float(value)))\n",
    "\n",
    "def freduce2(key,value,context):\n",
    "    max_id = -1\n",
    "    max_points = 0\n",
    "    for v in value:\n",
    "        if (max_points < v[1]):\n",
    "            max_points = v[1]\n",
    "            max_id = v[0]\n",
    "    context.write(max_id, max_points)\n",
    "\n",
    "job1 = Job(input_dir,output_dir1,fmap1,freduce1)\n",
    "job1.setCombiner(fcomb)\n",
    "job2 = Job(output_dir1,output_dir2,fmap2,freduce2)\n",
    "job1.waitForCompletion()\n",
    "job2.waitForCompletion()\n"
   ]
  },
  {
   "cell_type": "markdown",
   "id": "197ab079",
   "metadata": {},
   "source": [
    "## Eje. 3\n",
    "\n",
    "Para esta consulta implementamos dos Jobs, el primero se encarga de filtrar las combinaciones retador-retado devolviendo una sola tupla por cada combinación diferente el segundo utiliza esto para detectar cuales tienen mas de H (valor que ingresa por parámetro) retados diferentes."
   ]
  },
  {
   "cell_type": "code",
   "execution_count": 20,
   "id": "7dc76748",
   "metadata": {},
   "outputs": [
    {
     "data": {
      "text/plain": [
       "True"
      ]
     },
     "execution_count": 20,
     "metadata": {},
     "output_type": "execute_result"
    }
   ],
   "source": [
    "from MRE import Job\n",
    "\n",
    "root_path = './' #Simplemente para poder usar rootpaths\n",
    "input_path = root_path + \"input/\"\n",
    "output_path = root_path + \"output/\"\n",
    "input_dir = input_path\n",
    "output_dir1 = output_path + \"eje3a/\"\n",
    "output_dir2 = output_path + \"eje3b/\"\n",
    "\n",
    "def fmap1 (key, value, context):\n",
    "    data = value.split('\\t')\n",
    "    id_retado = data[0]\n",
    "    context.write((key, id_retado), 1)\n",
    "    \n",
    "\n",
    "def freduce1 (key, value, context):\n",
    "    for v in value:\n",
    "       res = v\n",
    "    context.write(key, res)\n",
    "\n",
    "def fmap2(key,value,context):\n",
    "    context.write(key, 1)\n",
    "\n",
    "def freduce2(key,value,context):\n",
    "    c = 0\n",
    "    for v in value: \n",
    "        c += 1\n",
    "    if (c >= context[\"h\"]):\n",
    "        context.write(key, c)\n",
    "\n",
    "param = {\"h\": 12}\n",
    "job1 = Job(input_dir,output_dir1,fmap1,freduce1)\n",
    "job1.setCombiner(fcomb)\n",
    "job2 = Job(output_dir1,output_dir2,fmap2,freduce2)\n",
    "job2.setParams(param)\n",
    "job1.waitForCompletion()\n",
    "job2.waitForCompletion()\n"
   ]
  },
  {
   "cell_type": "markdown",
   "id": "931bf6b2",
   "metadata": {},
   "source": [
    "## Eje. 4\n",
    "\n",
    "a = setparms\n",
    "prom \n",
    "jugadoresdistintos\n",
    "\n",
    "id - promedio \n",
    "\n",
    "id_r, id_re, PHre, PPr, PPre\n",
    "\n",
    "PHr\n",
    "\n"
   ]
  },
  {
   "cell_type": "code",
   "execution_count": null,
   "id": "a6451723",
   "metadata": {},
   "outputs": [],
   "source": []
  }
 ],
 "metadata": {
  "kernelspec": {
   "display_name": "venv",
   "language": "python",
   "name": "python3"
  },
  "language_info": {
   "codemirror_mode": {
    "name": "ipython",
    "version": 3
   },
   "file_extension": ".py",
   "mimetype": "text/x-python",
   "name": "python",
   "nbconvert_exporter": "python",
   "pygments_lexer": "ipython3",
   "version": "3.13.7"
  }
 },
 "nbformat": 4,
 "nbformat_minor": 5
}
