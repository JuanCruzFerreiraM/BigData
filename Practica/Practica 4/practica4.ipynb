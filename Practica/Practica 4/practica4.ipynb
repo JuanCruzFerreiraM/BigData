{
 "cells": [
  {
   "cell_type": "markdown",
   "id": "7d2067bb",
   "metadata": {},
   "source": [
    "# Practica 4\n",
    "\n",
    "## Ejercicio 1\n",
    "\n",
    "### a\n",
    "\n",
    "Queremos solucionar el problema de los case sensitive usando comparadores, esto significa modificar las funciones shuffle y sort. La salida de los mappers es <first_letter, 1> lo que nosotros tenemos que hacer es solucionar que \"A\" y \"a\" vayan al mismo nodo y se ordenen juntas, podemos modificar los cmp usando alguna función estilo to lower_case(). "
   ]
  },
  {
   "cell_type": "code",
   "execution_count": 2,
   "id": "2bc8b3e7",
   "metadata": {},
   "outputs": [
    {
     "data": {
      "text/plain": [
       "True"
      ]
     },
     "execution_count": 2,
     "metadata": {},
     "output_type": "execute_result"
    }
   ],
   "source": [
    "import datetime,math,re\n",
    "import random\n",
    "import sys\n",
    "sys.path.append('../..')\n",
    "\n",
    "from MRE import Job\n",
    "\n",
    "\n",
    "root_path = './' #Simplemente para poder usar rootpaths\n",
    "input_path = root_path + \"input/\"\n",
    "output_path = root_path + \"output/\"\n",
    "input_dir = input_path + \"eje1/\"\n",
    "output_dir = output_path + \"eje1/\"\n",
    "\n",
    "\n",
    "def map(key, values, context):\n",
    "    words = values.split()\n",
    "    for w in words:\n",
    "        context.write(w[0], 1)\n",
    "        \n",
    "def freduce(key, values, context):\n",
    "    c=0\n",
    "    for v in values:\n",
    "        c=c+1\n",
    "    context.write(key, c)\n",
    "    \n",
    "def fShuffleCmp(aKey, anotherKey):\n",
    "     if (aKey.lower() == anotherKey.lower()):\n",
    "         return 0\n",
    "     elif (aKey.lower() < anotherKey.lower()):\n",
    "         return -1\n",
    "     else: \n",
    "         return 1\n",
    "\n",
    "job = Job(input_dir,output_dir,map,freduce)\n",
    "job.setShuffleCmp(fShuffleCmp)\n",
    "job.waitForCompletion()\n"
   ]
  },
  {
   "cell_type": "markdown",
   "id": "69ac71b4",
   "metadata": {},
   "source": [
    "### b\n",
    "\n",
    "Se van a ejecutar tantos reducers como caracteres (en lower() indiferente si es \"A\" o \"a\") encuentre el map. No termino de entenderla, supongo que se podrían crear claves intermedias que hagan un random entre 1 y 2 pero luego los cmp nose como afectarían ***preguntar!***\n",
    "\n",
    "## Ejercicio 2\n",
    "\n",
    "Es muy util para tareas relacionadas a conteos, agregaciones, operaciones tipo base de datos, frecuencias. Con los mappers se debe prestar atención principalmente a que las claves intermedias emitidas sea coherentes con la lógica implementada en los diferentes cmp.\n",
    "\n",
    "## Ejercicio 3\n",
    "\n",
    "En principio el combiner no ayuda en nada, inclusive puede generar problemas, mi entendimiento es el siguiente, un combiner trabaja con la salida de los mappers, en este caso tenemos dos mappers, combinar las diferentes salidas puede mezclar info, tal vez podría servir para las cajas de ahorro, pero que es exactamente lo que combinaríamos, al fin y al cabo agrupar los valores de un cliente en una lista no tiene mucho sentido, porque ya es lo que le llega al reducer.\n",
    "\n",
    "## Ejercicio 4\n",
    "\n",
    "Queremos determinar la mediana de una serie de valores, en principio la tarea map lo que tiene que hacer es extraer el valor del data-set website y devolverlo, tendríamos que tener un solo reducer que pueda ver toda la lista en principio, pero seria interesante que el sort ya le de la lista ordenada de menor a mayor, lo que podemos hacer es emitir claves estilo 1x donde x es el numero que nos interesa, entonces en el shuffle simplemente miramos el 1, y luego en el sort ya si las ordenamos como se debe, luego miramos los value en el propio reducer, luego esta la lógica para determinar la mediana. Para el calcula de la ventana voy a replicar un lista en el reduce y listo ***preguntar***!"
   ]
  },
  {
   "cell_type": "code",
   "execution_count": null,
   "id": "fadb61e7",
   "metadata": {},
   "outputs": [],
   "source": [
    "import datetime,math,re\n",
    "import random\n",
    "import sys\n",
    "sys.path.append('../..')\n",
    "\n",
    "from MRE import Job\n",
    "\n",
    "\n",
    "root_path = './' #Simplemente para poder usar rootpaths\n",
    "input_path = root_path + \"input/\"\n",
    "output_path = root_path + \"output/\"\n",
    "input_dir = input_path + \"eje2/\"\n",
    "output_dir = output_path + \"eje2/\"\n",
    "\n",
    "def fmap(key, value, context):\n",
    "    data = value.split('\\t')\n",
    "    time = data[1]\n",
    "    context.write((1, time), 1)\n",
    "\n",
    "def fShuffleCmp(aKey, anotherKey):\n",
    "    if (aKey[0] == anotherKey[0]):\n",
    "        return 0\n",
    "    elif (aKey[0] < anotherKey[0]):\n",
    "        return -1\n",
    "    else:\n",
    "        return 1\n",
    "\n",
    "def fSortCmp(aKey, anotherKey):\n",
    "    if (aKey[1] == anotherKey[1]):\n",
    "        return 0\n",
    "    elif (aKey[1] < anotherKey[1]):\n",
    "        return -1\n",
    "    else:\n",
    "        return 1\n",
    "\n",
    "# No se me ocurre como implementar el reducer."
   ]
  },
  {
   "cell_type": "markdown",
   "id": "d8bb9ebc",
   "metadata": {},
   "source": [
    "## Ejercicio 5\n",
    "\n",
    "Okey, dado que la solución se debe realizar sin utilizar parámetros entonces lo que podemos hacer es tener dos inputs con dos mappers, uno se encarga de simplemente pasar los valores al reducer y trabaja sobre un solo archivo, y el otro se encarga de enviar los diferentes valores para resolver el problema, tenemos que tener una sola tupla de entrada, es importante que los valores de las variables sean lo primero que el reducer procese para ya tenerlas, por lo que debemos modificar el shuffle y el sort. Preguntar"
   ]
  },
  {
   "cell_type": "code",
   "execution_count": null,
   "id": "67e8bb7b",
   "metadata": {},
   "outputs": [],
   "source": [
    "#Preguntar eje 5"
   ]
  },
  {
   "cell_type": "markdown",
   "id": "4129b1f1",
   "metadata": {},
   "source": [
    "## Ejercicio 6\n",
    "\n"
   ]
  }
 ],
 "metadata": {
  "kernelspec": {
   "display_name": "venv",
   "language": "python",
   "name": "python3"
  },
  "language_info": {
   "codemirror_mode": {
    "name": "ipython",
    "version": 3
   },
   "file_extension": ".py",
   "mimetype": "text/x-python",
   "name": "python",
   "nbconvert_exporter": "python",
   "pygments_lexer": "ipython3",
   "version": "3.13.7"
  }
 },
 "nbformat": 4,
 "nbformat_minor": 5
}
