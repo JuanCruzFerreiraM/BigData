{
 "cells": [
  {
   "cell_type": "markdown",
   "id": "3dc2c6aa",
   "metadata": {},
   "source": [
    "# Practica 2\n",
    "\n",
    "## Ejercicio 1\n",
    "\n",
    "sofmdosfm\n",
    "\n",
    "## Ejercicio 2\n"
   ]
  },
  {
   "cell_type": "code",
   "execution_count": 2,
   "id": "67394e3f",
   "metadata": {},
   "outputs": [
    {
     "name": "stdout",
     "output_type": "stream",
     "text": [
      "True\n"
     ]
    }
   ],
   "source": [
    "import datetime,math,re\n",
    "import random\n",
    "import sys\n",
    "sys.path.append('..')\n",
    "\n",
    "from MRE import Job\n",
    "\n",
    "root_path = './' #Simplemente para poder usar rootpaths\n",
    "input_path = root_path + \"input/\"\n",
    "output_path = root_path + \"output/\"\n",
    "input_dir = input_path + \"eje2/\"\n",
    "output_dir = output_path + \"eje2/\"\n",
    "\n",
    "\n",
    "def fmap(key, value, context):\n",
    "    context.write(value, 1)\n",
    "    \n",
    "def fcomb(key, values, context):\n",
    "    c = 0\n",
    "    for v in values: \n",
    "        c += v\n",
    "    context.write(key, c)\n",
    "    \n",
    "def fred(key,values,context):\n",
    "    n = 0\n",
    "    for v in values:\n",
    "        n += v\n",
    "    context.write(key,n)\n",
    "\n",
    "job = Job(input_dir,output_dir,fmap,fred)\n",
    "job.setCombiner(fcomb)\n",
    "success = job.waitForCompletion()\n",
    "print(success)"
   ]
  },
  {
   "cell_type": "markdown",
   "id": "a9a4a252",
   "metadata": {},
   "source": [
    "## Ejercicio 3\n",
    "\n",
    "Mi lógica "
   ]
  },
  {
   "cell_type": "code",
   "execution_count": null,
   "id": "e9c45e92",
   "metadata": {},
   "outputs": [],
   "source": []
  }
 ],
 "metadata": {
  "kernelspec": {
   "display_name": ".venv",
   "language": "python",
   "name": "python3"
  },
  "language_info": {
   "codemirror_mode": {
    "name": "ipython",
    "version": 3
   },
   "file_extension": ".py",
   "mimetype": "text/x-python",
   "name": "python",
   "nbconvert_exporter": "python",
   "pygments_lexer": "ipython3",
   "version": "3.12.3"
  }
 },
 "nbformat": 4,
 "nbformat_minor": 5
}
