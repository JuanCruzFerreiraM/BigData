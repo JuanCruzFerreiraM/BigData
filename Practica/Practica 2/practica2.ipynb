{
 "cells": [
  {
   "cell_type": "markdown",
   "id": "3dc2c6aa",
   "metadata": {},
   "source": [
    "# Practica 2\n",
    "\n",
    "## Ejercicio 1\n",
    "\n",
    "sofmdosfm\n",
    "\n",
    "## Ejercicio 2\n"
   ]
  },
  {
   "cell_type": "code",
   "execution_count": 2,
   "id": "67394e3f",
   "metadata": {},
   "outputs": [
    {
     "name": "stdout",
     "output_type": "stream",
     "text": [
      "True\n"
     ]
    }
   ],
   "source": [
    "import datetime,math,re\n",
    "import random\n",
    "import sys\n",
    "sys.path.append('../..')\n",
    "\n",
    "from MRE import Job\n",
    "\n",
    "root_path = './' #Simplemente para poder usar rootpaths\n",
    "input_path = root_path + \"input/\"\n",
    "output_path = root_path + \"output/\"\n",
    "input_dir = input_path + \"eje2/\"\n",
    "output_dir = output_path + \"eje2/\"\n",
    "\n",
    "\n",
    "def fmap(key, value, context):\n",
    "    context.write(value, 1)\n",
    "    \n",
    "def fcomb(key, values, context):\n",
    "    c = 0\n",
    "    for v in values: \n",
    "        c += v\n",
    "    context.write(key, c)\n",
    "    \n",
    "def fred(key,values,context):\n",
    "    n = 0\n",
    "    for v in values:\n",
    "        n += v\n",
    "    context.write(key,n)\n",
    "\n",
    "job = Job(input_dir,output_dir,fmap,fred)\n",
    "job.setCombiner(fcomb)\n",
    "success = job.waitForCompletion()\n",
    "print(success)"
   ]
  },
  {
   "cell_type": "markdown",
   "id": "a9a4a252",
   "metadata": {},
   "source": [
    "## Ejercicio 3\n",
    "\n",
    "Mi lógica "
   ]
  },
  {
   "cell_type": "code",
   "execution_count": null,
   "id": "e9c45e92",
   "metadata": {},
   "outputs": [],
   "source": []
  },
  {
   "cell_type": "markdown",
   "id": "e350ed2b",
   "metadata": {},
   "source": [
    "## Ejercicio 4\n",
    "\n",
    "Utilice el dataset Libros para implementar una aplicación MapReduce que devuelva\n",
    "como salida todos los párrafos que tienen una longitud mayor al promedio. \n",
    "\n",
    "Considerando que la entrada es del tipo <key, párrafo>. Queremos saber cuantos cual es el párrafo con la mayor longitud.\n",
    "Lo que yo considero aca es que podemos implementar una solución de dos JOBS, en primer lugar el primer mapper simplemente hace algo estilo <1, [párrafo, len(párrafo)]> El reducer va a determinar el promedio, y su salida va a ser algo estilo (promedio, [párrafo,...]). Luego los mappers del siguiente Job simplemente evalúan si el párrafo es mayor que el promedio, y se lo mandan a un dummy reducer. "
   ]
  },
  {
   "cell_type": "code",
   "execution_count": 9,
   "id": "9a8e0543",
   "metadata": {},
   "outputs": [
    {
     "name": "stdout",
     "output_type": "stream",
     "text": [
      "True\n",
      "True\n"
     ]
    }
   ],
   "source": [
    "import datetime,math,re\n",
    "import random\n",
    "import sys\n",
    "sys.path.append('../..')\n",
    "\n",
    "from MRE import Job\n",
    "\n",
    "root_path = './' #Simplemente para poder usar rootpaths\n",
    "input_path = root_path + \"input/\"\n",
    "output_path = root_path + \"output/\"\n",
    "input_dir = input_path + \"eje3/\"\n",
    "output_dir = output_path + \"eje4a/\"\n",
    "\n",
    "def fmap1 (key, values, context):\n",
    "    n = len(values)\n",
    "    context.write(1,[values, n])\n",
    "    \n",
    "def fred1 (key,values,context):\n",
    "    total_len = 0\n",
    "    n = 0\n",
    "    p_values = []\n",
    "    for value in values:\n",
    "        total_len += value[1]\n",
    "        n += 1\n",
    "        p_values.append(value[0])\n",
    "    for p in p_values:\n",
    "        context.write(total_len / n, p)\n",
    "\n",
    "job1 = Job(input_dir,output_dir,fmap1,fred1)\n",
    "success = job1.waitForCompletion()\n",
    "print(success)\n",
    "\n",
    "def fmap2 (key, value, context):\n",
    "    if (len(value) > float(key)):\n",
    "        context.write(value, 1)\n",
    "        \n",
    "def fred2 (key, values, context):\n",
    "    for v in values:\n",
    "        context.write(v, key)\n",
    "\n",
    "job2 = Job(output_dir,output_path + \"eje4b/\",fmap2,fred2)\n",
    "success = job2.waitForCompletion()\n",
    "print(success)  \n"
   ]
  },
  {
   "cell_type": "markdown",
   "id": "70ad160b",
   "metadata": {},
   "source": [
    "## Ejercicio 5 \n",
    "\n",
    "El dataset website tiene información sobre el tiempo de permanencia de sus usuarios\n",
    "en cada una de las páginas del sitio. El formato de los datos del dataset es:\n",
    "<id_user, id_page, time>\n",
    "Implemente una aplicación MapReduce, utilizando combiners en los casos que\n",
    "considere necesario, que calcule\n",
    "a. La página más visitada (la página en la que más tiempo permaneció) para cada\n",
    "usuario\n",
    "b. El usuario que más páginas distintas visitó\n",
    "c. La página más visitada (en cuanto a cantidad de visitas, sin importar el tiempo\n",
    "de permanencia) por todos los usuarios.\n",
    "Indique como queda el DAG del proceso completo (las tres consultas).\n",
    "\n",
    "Supongo que planteamos tres soluciones separadas \n",
    "\n",
    "### A\n",
    "\n",
    "Para saber cual es el usuario que mas paginas visito primero asumoq\n"
   ]
  },
  {
   "cell_type": "code",
   "execution_count": null,
   "id": "882b6fae",
   "metadata": {},
   "outputs": [],
   "source": [
    "import datetime,math,re\n",
    "import random\n",
    "import sys\n",
    "sys.path.append('../..')\n",
    "\n",
    "from MRE import Job\n",
    "\n",
    "root_path = './' #Simplemente para poder usar rootpaths\n",
    "input_path = root_path + \"input/\"\n",
    "output_path = root_path + \"output/\"\n",
    "input_dir = input_path + \"eje2/\"\n",
    "output_dir = output_path + \"eje2/\""
   ]
  }
 ],
 "metadata": {
  "kernelspec": {
   "display_name": "venv",
   "language": "python",
   "name": "python3"
  },
  "language_info": {
   "codemirror_mode": {
    "name": "ipython",
    "version": 3
   },
   "file_extension": ".py",
   "mimetype": "text/x-python",
   "name": "python",
   "nbconvert_exporter": "python",
   "pygments_lexer": "ipython3",
   "version": "3.13.7"
  }
 },
 "nbformat": 4,
 "nbformat_minor": 5
}
