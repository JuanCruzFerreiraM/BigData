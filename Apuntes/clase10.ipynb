{
 "cells": [
  {
   "cell_type": "markdown",
   "id": "7273fac2",
   "metadata": {},
   "source": [
    "# Procesamiento en stream \n",
    "\n",
    "Tenemos un flujo continuo a una frecuencia que depende del problema, dichos datos no pueden almacenarse, en este caso es porque no podemos cortar, si cortamos perdemos datos.\n",
    "\n",
    "Existen dos estrategias principales\n",
    "\n",
    "- El dato se usa y se descarta\n",
    "- Guardamos una ventana de n datos\n",
    "\n",
    "Para el segundo caso encontramos varias posibilidades\n",
    "\n",
    "### Landmark Window \n",
    "\n",
    "Esta es la ideal pero imposible de implementar, guarda todo\n",
    "\n",
    "### Sliding window\n",
    "\n",
    "Guarda N datos en ventanas deslizantes.\n",
    "\n",
    "### Fading Window \n",
    "\n",
    "Se le da un peso o edad a un dato, de esta forma hay datos mas valiosos que otros. \n",
    "\n",
    "### Tilted-time Window\n",
    "\n",
    "Si divide la ventana en secciones, los pesos en estos casos se consideran por secciones, luego los datos van pasando entre secciones, osea si un dato sale de una, después intenta entrar en la siguiente asi hasta la ultima sección.\n",
    "\n",
    "## Problemas usuales \n",
    "\n",
    "Usualmente nos interesan los modelos predictores, desde los mas simples hasta los mas complejos. Se puden usar modelos previamente entrenados o puede entrenarse on line.\n",
    "\n",
    "Los algoritmos deben ser rapido y ocupar poca memoria ram. "
   ]
  }
 ],
 "metadata": {
  "language_info": {
   "name": "python"
  }
 },
 "nbformat": 4,
 "nbformat_minor": 5
}
