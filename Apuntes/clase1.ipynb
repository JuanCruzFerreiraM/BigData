{
 "cells": [
  {
   "cell_type": "markdown",
   "id": "81ebeed3",
   "metadata": {},
   "source": [
    "# Clase 1\n",
    "\n",
    "## Fundamentos y conceptos de Big Data\n",
    "\n",
    "El problema surge de que los discos de las bases de datos no alcanzaban. Refiere a muchos datos. El propio avance tecnológico induce el crecimiento de los datos, ya que se registran y miden una mayor cantidad de datos. \n",
    "\n",
    "Es muy difícil definir que es un problema de big data y que no, sobre todo en la mitad del intervalo. Depende de muchos factores como almacenamiento, procesamiento, etc.\n",
    "\n",
    "El paradigma es usar frameworks de propósito general que a partir de un programa secuencial genera un \"programa\" distribuido que nos permite encarar el proyecto de forma mas sencilla sin preocuparnos por el bajo nivel.\n",
    "\n",
    "Def. exacta en las filminas.\n",
    "\n",
    "Los tres key concepts son volumen, variedad y velocidad.\n",
    "\n",
    "La gran mayoría de los datos son no estructurados. Las bases de datos relacionales no sirven para eso. Se usan bases no relacionales. \n",
    "\n",
    "Es aplicable tanto a problemas de tiempo real como problemas que no lo son.\n",
    "\n",
    "### Desafíos  \n",
    "\n",
    "Almacenar, procesar rápidamente (solucionados), diversidad de los datos.\n",
    "\n",
    "Casos de aplicación se pueden ver en la filmina."
   ]
  }
 ],
 "metadata": {
  "language_info": {
   "name": "python"
  }
 },
 "nbformat": 4,
 "nbformat_minor": 5
}
