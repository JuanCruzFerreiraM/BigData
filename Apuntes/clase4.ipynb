{
 "cells": [
  {
   "cell_type": "markdown",
   "id": "613d100d",
   "metadata": {},
   "source": [
    "# Clase 3\n",
    "\n",
    "## Jobs parametrizados\n",
    "\n",
    "En MapReduce podemos establecer parametros en el driver. En el emulador lo hacemos desde el context. Utilizamos un diccionario, luego el método setParams.\n",
    "\n",
    "\n"
   ]
  }
 ],
 "metadata": {
  "language_info": {
   "name": "python"
  }
 },
 "nbformat": 4,
 "nbformat_minor": 5
}
