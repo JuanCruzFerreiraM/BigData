{
 "cells": [
  {
   "cell_type": "markdown",
   "id": "1ad72d3d",
   "metadata": {},
   "source": [
    "# Clase 5\n",
    "\n",
    "## Shuffle y sort\n",
    "\n",
    "Para ciertos problemas como un Join 1-N es necesario ajustar estos pasos.\n",
    "\n",
    "### Shuffle \n",
    "\n",
    "Se encarga de que cada reducer reciba tuplas con la misma clave intermedia.\n",
    "\n",
    "### Sort\n",
    "\n",
    "Se usa para que las claves entren en un orden al reducer.\n",
    "\n",
    "Para poder implementarlo debemos hacer un comparador de claves en el shuffle y para el sort\n",
    "\n",
    "Algoritmos en las filminas. "
   ]
  }
 ],
 "metadata": {
  "language_info": {
   "name": "python"
  }
 },
 "nbformat": 4,
 "nbformat_minor": 5
}
